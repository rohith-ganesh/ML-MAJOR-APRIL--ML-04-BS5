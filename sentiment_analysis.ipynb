{
  "nbformat": 4,
  "nbformat_minor": 0,
  "metadata": {
    "colab": {
      "name": "sentiment analysis.ipynb",
      "provenance": [],
      "authorship_tag": "ABX9TyPbYMLHg0Z/zs+01lkhStTM",
      "include_colab_link": true
    },
    "kernelspec": {
      "name": "python3",
      "display_name": "Python 3"
    },
    "language_info": {
      "name": "python"
    }
  },
  "cells": [
    {
      "cell_type": "markdown",
      "metadata": {
        "id": "view-in-github",
        "colab_type": "text"
      },
      "source": [
        "<a href=\"https://colab.research.google.com/github/rohith-ganesh/ML-MAJOR-APRIL--ML-04-BS5/blob/main/sentiment_analysis.ipynb\" target=\"_parent\"><img src=\"https://colab.research.google.com/assets/colab-badge.svg\" alt=\"Open In Colab\"/></a>"
      ]
    },
    {
      "cell_type": "code",
      "metadata": {
        "colab": {
          "base_uri": "https://localhost:8080/"
        },
        "id": "3v7-rLs4yAHy",
        "outputId": "ae978416-ad56-4f66-c640-f488a07ea666"
      },
      "source": [
        "!pip install vaderSentiment"
      ],
      "execution_count": 1,
      "outputs": [
        {
          "output_type": "stream",
          "text": [
            "Collecting vaderSentiment\n",
            "\u001b[?25l  Downloading https://files.pythonhosted.org/packages/76/fc/310e16254683c1ed35eeb97386986d6c00bc29df17ce280aed64d55537e9/vaderSentiment-3.3.2-py2.py3-none-any.whl (125kB)\n",
            "\r\u001b[K     |██▋                             | 10kB 15.1MB/s eta 0:00:01\r\u001b[K     |█████▏                          | 20kB 20.1MB/s eta 0:00:01\r\u001b[K     |███████▉                        | 30kB 17.5MB/s eta 0:00:01\r\u001b[K     |██████████▍                     | 40kB 18.0MB/s eta 0:00:01\r\u001b[K     |█████████████                   | 51kB 19.4MB/s eta 0:00:01\r\u001b[K     |███████████████▋                | 61kB 21.7MB/s eta 0:00:01\r\u001b[K     |██████████████████▏             | 71kB 22.0MB/s eta 0:00:01\r\u001b[K     |████████████████████▉           | 81kB 21.0MB/s eta 0:00:01\r\u001b[K     |███████████████████████▍        | 92kB 22.0MB/s eta 0:00:01\r\u001b[K     |██████████████████████████      | 102kB 21.7MB/s eta 0:00:01\r\u001b[K     |████████████████████████████▋   | 112kB 21.7MB/s eta 0:00:01\r\u001b[K     |███████████████████████████████▏| 122kB 21.7MB/s eta 0:00:01\r\u001b[K     |████████████████████████████████| 133kB 21.7MB/s \n",
            "\u001b[?25hRequirement already satisfied: requests in /usr/local/lib/python3.7/dist-packages (from vaderSentiment) (2.23.0)\n",
            "Requirement already satisfied: idna<3,>=2.5 in /usr/local/lib/python3.7/dist-packages (from requests->vaderSentiment) (2.10)\n",
            "Requirement already satisfied: certifi>=2017.4.17 in /usr/local/lib/python3.7/dist-packages (from requests->vaderSentiment) (2020.12.5)\n",
            "Requirement already satisfied: urllib3!=1.25.0,!=1.25.1,<1.26,>=1.21.1 in /usr/local/lib/python3.7/dist-packages (from requests->vaderSentiment) (1.24.3)\n",
            "Requirement already satisfied: chardet<4,>=3.0.2 in /usr/local/lib/python3.7/dist-packages (from requests->vaderSentiment) (3.0.4)\n",
            "Installing collected packages: vaderSentiment\n",
            "Successfully installed vaderSentiment-3.3.2\n"
          ],
          "name": "stdout"
        }
      ]
    },
    {
      "cell_type": "code",
      "metadata": {
        "id": "bZCQvmYJyIvL"
      },
      "source": [
        "from vaderSentiment.vaderSentiment import SentimentIntensityAnalyzer\n",
        "vs=SentimentIntensityAnalyzer()"
      ],
      "execution_count": 2,
      "outputs": []
    },
    {
      "cell_type": "code",
      "metadata": {
        "id": "ehorThqCyLTC"
      },
      "source": [
        "#webscraping--beatidul soup 4\n",
        "\n",
        "import requests\n",
        "from bs4 import BeautifulSoup\n",
        "import pandas as pd\n",
        "import numpy as np\n",
        "import os"
      ],
      "execution_count": 3,
      "outputs": []
    },
    {
      "cell_type": "code",
      "metadata": {
        "id": "gQAJk-GKyNzD"
      },
      "source": [
        "urls=['https://inshorts.com/en/read/world',\n",
        "              'https://inshorts.com/en/read/sports',\n",
        "              'https://inshorts.com/en/read/politics',\n",
        "      'https://inshorts.com/en/read/technology',\n",
        "      'https://inshorts.com/en/read/entertainment','https://inshorts.com/en/read/automobile']\n",
        "\n",
        "def build_dataset(urls):\n",
        "  news_data=[]\n",
        "  news_category=[]\n",
        "  for url in urls:\n",
        "    news_category=url.split('/')[-1]\n",
        "    data=requests.get(url)\n",
        "    soup= BeautifulSoup(data.content)\n",
        "    \n",
        "    news_articles=[{'news_headline':headline.find('span',attrs={\"itemprop\":\"headline\"}).string,\n",
        "                    'news_article':article.find('div',attrs={\"itemprop\":\"articleBody\"}).string,\n",
        "                    'news_category':news_category}\n",
        "                   \n",
        "                   for headline,article in zip(soup.find_all('div',class_=[\"news-card-title news-right-box\"]),\n",
        "                                               soup.find_all('div',class_=[\"news-card-content news-right-box\"]))\n",
        "                   ]\n",
        "    news_articles=news_articles[0:20]\n",
        "    news_data.extend(news_articles)\n",
        "\n",
        "  df=pd.DataFrame(news_data)\n",
        "  df=df[['news_headline','news_article','news_category']]\n",
        "  return df"
      ],
      "execution_count": 4,
      "outputs": []
    },
    {
      "cell_type": "code",
      "metadata": {
        "colab": {
          "base_uri": "https://localhost:8080/",
          "height": 203
        },
        "id": "QpBiuxCbyRQ0",
        "outputId": "024076a7-144e-4311-8554-a330bbb16a2f"
      },
      "source": [
        "df= build_dataset(urls)\n",
        "df.head()"
      ],
      "execution_count": 5,
      "outputs": [
        {
          "output_type": "execute_result",
          "data": {
            "text/html": [
              "<div>\n",
              "<style scoped>\n",
              "    .dataframe tbody tr th:only-of-type {\n",
              "        vertical-align: middle;\n",
              "    }\n",
              "\n",
              "    .dataframe tbody tr th {\n",
              "        vertical-align: top;\n",
              "    }\n",
              "\n",
              "    .dataframe thead th {\n",
              "        text-align: right;\n",
              "    }\n",
              "</style>\n",
              "<table border=\"1\" class=\"dataframe\">\n",
              "  <thead>\n",
              "    <tr style=\"text-align: right;\">\n",
              "      <th></th>\n",
              "      <th>news_headline</th>\n",
              "      <th>news_article</th>\n",
              "      <th>news_category</th>\n",
              "    </tr>\n",
              "  </thead>\n",
              "  <tbody>\n",
              "    <tr>\n",
              "      <th>0</th>\n",
              "      <td>US' FDA delays use of India's Covaxin, asks to...</td>\n",
              "      <td>US' Food and Drug Administration (FDA) has del...</td>\n",
              "      <td>world</td>\n",
              "    </tr>\n",
              "    <tr>\n",
              "      <th>1</th>\n",
              "      <td>Respect US FDA's decision on Covaxin, it won't...</td>\n",
              "      <td>After US FDA rejected emergency use approval t...</td>\n",
              "      <td>world</td>\n",
              "    </tr>\n",
              "    <tr>\n",
              "      <th>2</th>\n",
              "      <td>China releases new images including a 'selfie'...</td>\n",
              "      <td>China's Zhurong rover has sent back new images...</td>\n",
              "      <td>world</td>\n",
              "    </tr>\n",
              "    <tr>\n",
              "      <th>3</th>\n",
              "      <td>Italy will prosecute marines who killed Indian...</td>\n",
              "      <td>The Supreme Court on Friday said that the proc...</td>\n",
              "      <td>world</td>\n",
              "    </tr>\n",
              "    <tr>\n",
              "      <th>4</th>\n",
              "      <td>1,000-year-old chicken egg found in pit contai...</td>\n",
              "      <td>Archaeologists have discovered a 1,000-year-ol...</td>\n",
              "      <td>world</td>\n",
              "    </tr>\n",
              "  </tbody>\n",
              "</table>\n",
              "</div>"
            ],
            "text/plain": [
              "                                       news_headline  ... news_category\n",
              "0  US' FDA delays use of India's Covaxin, asks to...  ...         world\n",
              "1  Respect US FDA's decision on Covaxin, it won't...  ...         world\n",
              "2  China releases new images including a 'selfie'...  ...         world\n",
              "3  Italy will prosecute marines who killed Indian...  ...         world\n",
              "4  1,000-year-old chicken egg found in pit contai...  ...         world\n",
              "\n",
              "[5 rows x 3 columns]"
            ]
          },
          "metadata": {
            "tags": []
          },
          "execution_count": 5
        }
      ]
    },
    {
      "cell_type": "code",
      "metadata": {
        "colab": {
          "base_uri": "https://localhost:8080/"
        },
        "id": "je2eVN1NyT12",
        "outputId": "f89b785b-fecb-46f3-e67e-173ac4fa579a"
      },
      "source": [
        "import nltk\n",
        "nltk.download('stopwords')"
      ],
      "execution_count": 6,
      "outputs": [
        {
          "output_type": "stream",
          "text": [
            "[nltk_data] Downloading package stopwords to /root/nltk_data...\n",
            "[nltk_data]   Unzipping corpora/stopwords.zip.\n"
          ],
          "name": "stdout"
        },
        {
          "output_type": "execute_result",
          "data": {
            "text/plain": [
              "True"
            ]
          },
          "metadata": {
            "tags": []
          },
          "execution_count": 6
        }
      ]
    },
    {
      "cell_type": "code",
      "metadata": {
        "colab": {
          "base_uri": "https://localhost:8080/"
        },
        "id": "n80bU18wyY-N",
        "outputId": "a3888b7b-295d-4cf3-b88a-86734c803779"
      },
      "source": [
        "stopwords_list=nltk.corpus.stopwords.words('english')\n",
        "len(stopwords_list)"
      ],
      "execution_count": 7,
      "outputs": [
        {
          "output_type": "execute_result",
          "data": {
            "text/plain": [
              "179"
            ]
          },
          "metadata": {
            "tags": []
          },
          "execution_count": 7
        }
      ]
    },
    {
      "cell_type": "code",
      "metadata": {
        "colab": {
          "base_uri": "https://localhost:8080/"
        },
        "id": "vz1abchIych9",
        "outputId": "edb311ed-9fba-4a10-c08f-ba4f6493fcf3"
      },
      "source": [
        "stopwords_list.remove('no')\n",
        "stopwords_list.remove('not')\n",
        "len(stopwords_list)"
      ],
      "execution_count": 8,
      "outputs": [
        {
          "output_type": "execute_result",
          "data": {
            "text/plain": [
              "177"
            ]
          },
          "metadata": {
            "tags": []
          },
          "execution_count": 8
        }
      ]
    },
    {
      "cell_type": "code",
      "metadata": {
        "id": "7AEcyJwUyfZH"
      },
      "source": [
        "def html_tag(text):\n",
        "  soup=BeautifulSoup(text,\"html.parser\")\n",
        "  new_text=soup.get_text()\n",
        "  return new_text"
      ],
      "execution_count": 9,
      "outputs": []
    },
    {
      "cell_type": "code",
      "metadata": {
        "colab": {
          "base_uri": "https://localhost:8080/"
        },
        "id": "ZQ8j38h8yis-",
        "outputId": "509c6f11-d6de-481c-fccd-1916f4a321b4"
      },
      "source": [
        "!pip install contractions"
      ],
      "execution_count": 10,
      "outputs": [
        {
          "output_type": "stream",
          "text": [
            "Collecting contractions\n",
            "  Downloading https://files.pythonhosted.org/packages/11/4d/378ab91284c2c3a06ab475b287721c09b7951d5ecb3edf4ffb0e1e7a568a/contractions-0.0.49-py2.py3-none-any.whl\n",
            "Collecting textsearch>=0.0.21\n",
            "  Downloading https://files.pythonhosted.org/packages/d3/fe/021d7d76961b5ceb9f8d022c4138461d83beff36c3938dc424586085e559/textsearch-0.0.21-py2.py3-none-any.whl\n",
            "Collecting pyahocorasick\n",
            "\u001b[?25l  Downloading https://files.pythonhosted.org/packages/7f/c2/eae730037ae1cbbfaa229d27030d1d5e34a1e41114b21447d1202ae9c220/pyahocorasick-1.4.2.tar.gz (321kB)\n",
            "\u001b[K     |████████████████████████████████| 327kB 31.1MB/s \n",
            "\u001b[?25hCollecting anyascii\n",
            "\u001b[?25l  Downloading https://files.pythonhosted.org/packages/a3/14/666cd44bf53f36a961544af592cb5c5c800013f9c51a4745af8d7c17362a/anyascii-0.2.0-py3-none-any.whl (283kB)\n",
            "\u001b[K     |████████████████████████████████| 286kB 39.3MB/s \n",
            "\u001b[?25hBuilding wheels for collected packages: pyahocorasick\n",
            "  Building wheel for pyahocorasick (setup.py) ... \u001b[?25l\u001b[?25hdone\n",
            "  Created wheel for pyahocorasick: filename=pyahocorasick-1.4.2-cp37-cp37m-linux_x86_64.whl size=85388 sha256=d622263b04a2563db169ec4510fc111394a152e6b899a9926674cb8464484868\n",
            "  Stored in directory: /root/.cache/pip/wheels/3a/03/34/77e3ece0bba8b86bfac88a79f923b36d805cad63caeba38842\n",
            "Successfully built pyahocorasick\n",
            "Installing collected packages: pyahocorasick, anyascii, textsearch, contractions\n",
            "Successfully installed anyascii-0.2.0 contractions-0.0.49 pyahocorasick-1.4.2 textsearch-0.0.21\n"
          ],
          "name": "stdout"
        }
      ]
    },
    {
      "cell_type": "code",
      "metadata": {
        "colab": {
          "base_uri": "https://localhost:8080/",
          "height": 35
        },
        "id": "hBPeiMRYynf_",
        "outputId": "266ea630-418a-4fff-f5ed-108d2fbf9e6d"
      },
      "source": [
        "import contractions\n",
        "def con(text):\n",
        "  expand=contractions.fix(text)\n",
        "  return(expand)\n",
        "\n",
        "#con(\"gotta\")"
      ],
      "execution_count": 11,
      "outputs": [
        {
          "output_type": "execute_result",
          "data": {
            "application/vnd.google.colaboratory.intrinsic+json": {
              "type": "string"
            },
            "text/plain": [
              "'got to'"
            ]
          },
          "metadata": {
            "tags": []
          },
          "execution_count": 11
        }
      ]
    },
    {
      "cell_type": "code",
      "metadata": {
        "id": "JyUNq5-YysR8"
      },
      "source": [
        "import re\n",
        "def remove_sp(text):\n",
        "  pattern=r'[^A-Za-z0-9\\s]'\n",
        "  text= re.sub(pattern,'',text)\n",
        "  return text"
      ],
      "execution_count": 12,
      "outputs": []
    },
    {
      "cell_type": "code",
      "metadata": {
        "colab": {
          "base_uri": "https://localhost:8080/"
        },
        "id": "DFD3VrS1ytKP",
        "outputId": "d000d708-bce7-49fe-8a09-35b56c9fd55c"
      },
      "source": [
        "from nltk.tokenize.toktok import ToktokTokenizer\n",
        "tokenizer=ToktokTokenizer\n",
        "\n",
        "from nltk.tokenize import word_tokenize\n",
        "import nltk\n",
        "nltk.download('punkt')"
      ],
      "execution_count": 13,
      "outputs": [
        {
          "output_type": "stream",
          "text": [
            "[nltk_data] Downloading package punkt to /root/nltk_data...\n",
            "[nltk_data]   Unzipping tokenizers/punkt.zip.\n"
          ],
          "name": "stdout"
        },
        {
          "output_type": "execute_result",
          "data": {
            "text/plain": [
              "True"
            ]
          },
          "metadata": {
            "tags": []
          },
          "execution_count": 13
        }
      ]
    },
    {
      "cell_type": "code",
      "metadata": {
        "id": "yjrT7oHmywWE"
      },
      "source": [
        "def remove_stopwords(text):\n",
        "  tokens=word_tokenize(text)\n",
        "  tokens=[token.strip() for token in tokens]\n",
        "  filtered_token=[token for token in tokens if token not in stopwords_list]\n",
        "  filtered_text=' '.join(filtered_token)\n",
        "  return filtered_text"
      ],
      "execution_count": 14,
      "outputs": []
    },
    {
      "cell_type": "code",
      "metadata": {
        "colab": {
          "base_uri": "https://localhost:8080/",
          "height": 35
        },
        "id": "MzNB7WiwyzL5",
        "outputId": "4e3b50f5-7e7a-4220-a559-f72abf02bc80"
      },
      "source": [
        "remove_stopwords(\"The,and,if are all stopwords and even not\")"
      ],
      "execution_count": 15,
      "outputs": [
        {
          "output_type": "execute_result",
          "data": {
            "application/vnd.google.colaboratory.intrinsic+json": {
              "type": "string"
            },
            "text/plain": [
              "'The , , stopwords even not'"
            ]
          },
          "metadata": {
            "tags": []
          },
          "execution_count": 15
        }
      ]
    },
    {
      "cell_type": "code",
      "metadata": {
        "colab": {
          "base_uri": "https://localhost:8080/"
        },
        "id": "jVxMDkcWy4mC",
        "outputId": "8f569caf-82fb-40cc-a5df-f908f7dc9c18"
      },
      "source": [
        "from nltk.stem.porter import PorterStemmer\n",
        "import nltk\n",
        "nltk.download('wordnet')\n",
        "from nltk.stem import WordNetLemmatizer\n",
        "from nltk.tokenize import word_tokenize\n",
        "lemmatizer = WordNetLemmatizer()\n",
        "stemmer = PorterStemmer()\n",
        "  \n",
        "# stem words in the list of tokenised words\n",
        "def stem_lemm(text):\n",
        "    word_tokens = word_tokenize(text)\n",
        "    #stems = [stemmer.stem(word) for word in word_tokens ]\n",
        "    #print(stems)\n",
        "    lem=[lemmatizer.lemmatize(i,pos='v') for i in word_tokens]\n",
        "    #print(lem)\n",
        "    t=' '.join(lem)\n",
        "    return t\n",
        "  \n",
        "#text = 'data science uses scientific methods algorithms and many types of processes'\n",
        "#stem_lemm(text)"
      ],
      "execution_count": 16,
      "outputs": [
        {
          "output_type": "stream",
          "text": [
            "[nltk_data] Downloading package wordnet to /root/nltk_data...\n",
            "[nltk_data]   Unzipping corpora/wordnet.zip.\n"
          ],
          "name": "stdout"
        }
      ]
    },
    {
      "cell_type": "code",
      "metadata": {
        "colab": {
          "base_uri": "https://localhost:8080/",
          "height": 203
        },
        "id": "Fi_MXIbRy73x",
        "outputId": "a0312e7f-bc21-48a4-c03c-92ef04979d61"
      },
      "source": [
        "df.news_headline =df.news_headline.apply(lambda x:x.lower())\n",
        "df.news_article =df.news_article.apply(lambda x:x.lower())\n",
        "\n",
        "df.news_headline =df.news_headline.apply(html_tag)\n",
        "df.news_article =df.news_article.apply(html_tag)\n",
        "\n",
        "df.news_headline =df.news_headline.apply(con)\n",
        "df.news_article =df.news_article.apply(con)\n",
        "\n",
        "df.news_headline =df.news_headline.apply(remove_sp)\n",
        "df.news_article =df.news_article.apply(remove_sp)\n",
        "\n",
        "df.news_headline =df.news_headline.apply(remove_stopwords)\n",
        "df.news_article =df.news_article.apply(remove_stopwords)\n",
        "\n",
        "#df.news_headline =df.news_headline.apply(stem_lemm)\n",
        "df.news_article =df.news_article.apply(stem_lemm)\n",
        "\n",
        "\n",
        "df.head()"
      ],
      "execution_count": 17,
      "outputs": [
        {
          "output_type": "execute_result",
          "data": {
            "text/html": [
              "<div>\n",
              "<style scoped>\n",
              "    .dataframe tbody tr th:only-of-type {\n",
              "        vertical-align: middle;\n",
              "    }\n",
              "\n",
              "    .dataframe tbody tr th {\n",
              "        vertical-align: top;\n",
              "    }\n",
              "\n",
              "    .dataframe thead th {\n",
              "        text-align: right;\n",
              "    }\n",
              "</style>\n",
              "<table border=\"1\" class=\"dataframe\">\n",
              "  <thead>\n",
              "    <tr style=\"text-align: right;\">\n",
              "      <th></th>\n",
              "      <th>news_headline</th>\n",
              "      <th>news_article</th>\n",
              "      <th>news_category</th>\n",
              "    </tr>\n",
              "  </thead>\n",
              "  <tbody>\n",
              "    <tr>\n",
              "      <th>0</th>\n",
              "      <td>us fda delays use indias covaxin asks file ful...</td>\n",
              "      <td>us food drug administration fda delay use bhar...</td>\n",
              "      <td>world</td>\n",
              "    </tr>\n",
              "    <tr>\n",
              "      <th>1</th>\n",
              "      <td>respect us fdas decision covaxin not impact va...</td>\n",
              "      <td>us fda reject emergency use approval bharat bi...</td>\n",
              "      <td>world</td>\n",
              "    </tr>\n",
              "    <tr>\n",
              "      <th>2</th>\n",
              "      <td>china releases new images including selfie sen...</td>\n",
              "      <td>chinas zhurong rover send back new image mar i...</td>\n",
              "      <td>world</td>\n",
              "    </tr>\n",
              "    <tr>\n",
              "      <th>3</th>\n",
              "      <td>italy prosecute marines killed indian fisherme...</td>\n",
              "      <td>supreme court friday say proceed two italian m...</td>\n",
              "      <td>world</td>\n",
              "    </tr>\n",
              "    <tr>\n",
              "      <th>4</th>\n",
              "      <td>1000yearold chicken egg found pit containing h...</td>\n",
              "      <td>archaeologists discover 1000yearold chicken eg...</td>\n",
              "      <td>world</td>\n",
              "    </tr>\n",
              "  </tbody>\n",
              "</table>\n",
              "</div>"
            ],
            "text/plain": [
              "                                       news_headline  ... news_category\n",
              "0  us fda delays use indias covaxin asks file ful...  ...         world\n",
              "1  respect us fdas decision covaxin not impact va...  ...         world\n",
              "2  china releases new images including selfie sen...  ...         world\n",
              "3  italy prosecute marines killed indian fisherme...  ...         world\n",
              "4  1000yearold chicken egg found pit containing h...  ...         world\n",
              "\n",
              "[5 rows x 3 columns]"
            ]
          },
          "metadata": {
            "tags": []
          },
          "execution_count": 17
        }
      ]
    },
    {
      "cell_type": "code",
      "metadata": {
        "id": "BDM6No1yy_M7"
      },
      "source": [
        "df['compound']=df['news_article'].apply(lambda x: vs.polarity_scores(x)['compound'])\n",
        "\n",
        "#df['review']=df['compound'].apply(lambda x : \"happy\"if  x > 0.5 else \"sad\", ['review'])\n",
        "#df['Review']=df['compound'].apply(lambda x: \"happy\" if x > 0.5 else (\"neutral\" if (x <0.5 and x>-0.5) else \"not happy\"),['review'])\n",
        "df['Review']=df['compound'].apply(lambda x: \"positive\" if x > 0.0 else \"negative\" ,['review'])"
      ],
      "execution_count": 18,
      "outputs": []
    },
    {
      "cell_type": "code",
      "metadata": {
        "colab": {
          "base_uri": "https://localhost:8080/",
          "height": 203
        },
        "id": "2xyjWmUpzCNy",
        "outputId": "df873b29-945f-4ba2-e7f5-bd9b93cda259"
      },
      "source": [
        "df.tail()"
      ],
      "execution_count": 19,
      "outputs": [
        {
          "output_type": "execute_result",
          "data": {
            "text/html": [
              "<div>\n",
              "<style scoped>\n",
              "    .dataframe tbody tr th:only-of-type {\n",
              "        vertical-align: middle;\n",
              "    }\n",
              "\n",
              "    .dataframe tbody tr th {\n",
              "        vertical-align: top;\n",
              "    }\n",
              "\n",
              "    .dataframe thead th {\n",
              "        text-align: right;\n",
              "    }\n",
              "</style>\n",
              "<table border=\"1\" class=\"dataframe\">\n",
              "  <thead>\n",
              "    <tr style=\"text-align: right;\">\n",
              "      <th></th>\n",
              "      <th>news_headline</th>\n",
              "      <th>news_article</th>\n",
              "      <th>news_category</th>\n",
              "      <th>compound</th>\n",
              "      <th>Review</th>\n",
              "    </tr>\n",
              "  </thead>\n",
              "  <tbody>\n",
              "    <tr>\n",
              "      <th>115</th>\n",
              "      <td>mahindra appoints extata motors design head bo...</td>\n",
              "      <td>mahindra group announce appointment pratap bos...</td>\n",
              "      <td>automobile</td>\n",
              "      <td>-0.3400</td>\n",
              "      <td>negative</td>\n",
              "    </tr>\n",
              "    <tr>\n",
              "      <th>116</th>\n",
              "      <td>anita frew appointed rollsroyces first woman c...</td>\n",
              "      <td>rollsroyce wednesday say anita frew succeed ia...</td>\n",
              "      <td>automobile</td>\n",
              "      <td>0.8481</td>\n",
              "      <td>positive</td>\n",
              "    </tr>\n",
              "    <tr>\n",
              "      <th>117</th>\n",
              "      <td>tesla cars camera helps arrest us man suspecte...</td>\n",
              "      <td>tesla cars dashcam footage help police arrest ...</td>\n",
              "      <td>automobile</td>\n",
              "      <td>-0.7269</td>\n",
              "      <td>negative</td>\n",
              "    </tr>\n",
              "    <tr>\n",
              "      <th>118</th>\n",
              "      <td>bajaj auto sales increase 114 271 lakh units m...</td>\n",
              "      <td>bajaj autos total vehicle sales increase 114 1...</td>\n",
              "      <td>automobile</td>\n",
              "      <td>0.3744</td>\n",
              "      <td>positive</td>\n",
              "    </tr>\n",
              "    <tr>\n",
              "      <th>119</th>\n",
              "      <td>maruti suzuki reports 71 decline total sales m...</td>\n",
              "      <td>maruti suzuki india report 71 decline total sa...</td>\n",
              "      <td>automobile</td>\n",
              "      <td>0.0000</td>\n",
              "      <td>negative</td>\n",
              "    </tr>\n",
              "  </tbody>\n",
              "</table>\n",
              "</div>"
            ],
            "text/plain": [
              "                                         news_headline  ...    Review\n",
              "115  mahindra appoints extata motors design head bo...  ...  negative\n",
              "116  anita frew appointed rollsroyces first woman c...  ...  positive\n",
              "117  tesla cars camera helps arrest us man suspecte...  ...  negative\n",
              "118  bajaj auto sales increase 114 271 lakh units m...  ...  positive\n",
              "119  maruti suzuki reports 71 decline total sales m...  ...  negative\n",
              "\n",
              "[5 rows x 5 columns]"
            ]
          },
          "metadata": {
            "tags": []
          },
          "execution_count": 19
        }
      ]
    },
    {
      "cell_type": "code",
      "metadata": {
        "id": "ZjDsN6USzEwr"
      },
      "source": [
        "df.to_csv('data.csv',index=False)"
      ],
      "execution_count": 20,
      "outputs": []
    },
    {
      "cell_type": "code",
      "metadata": {
        "id": "ruSc-asjzH7L"
      },
      "source": [
        "from sklearn.model_selection import train_test_split\n",
        "X = df.news_article\n",
        "Y = df.Review\n",
        "x_train, x_test, y_train, y_test = train_test_split(X,Y, test_size = 0.2,random_state=100)"
      ],
      "execution_count": 21,
      "outputs": []
    },
    {
      "cell_type": "code",
      "metadata": {
        "id": "xqU0ZYAEzKQT"
      },
      "source": [
        "from sklearn.feature_extraction.text import TfidfVectorizer\n",
        "from sklearn.linear_model import LogisticRegression\n",
        "from sklearn.pipeline import Pipeline"
      ],
      "execution_count": 22,
      "outputs": []
    },
    {
      "cell_type": "code",
      "metadata": {
        "id": "VmVQykF5zMOI"
      },
      "source": [
        "model = Pipeline([('vectorizer',TfidfVectorizer()),('classifier',LogisticRegression())])\n",
        "model.fit(x_train, y_train)\n",
        "y_pred = model.predict(x_test)"
      ],
      "execution_count": 23,
      "outputs": []
    },
    {
      "cell_type": "code",
      "metadata": {
        "colab": {
          "base_uri": "https://localhost:8080/"
        },
        "id": "OdnS2buPzPLF",
        "outputId": "9bf9cbbd-8793-4d4c-de7f-cc00a1e1944c"
      },
      "source": [
        "from sklearn.metrics import accuracy_score\n",
        "print(\"Accuracy : \", accuracy_score(y_pred, y_test))"
      ],
      "execution_count": 24,
      "outputs": [
        {
          "output_type": "stream",
          "text": [
            "Accuracy :  0.625\n"
          ],
          "name": "stdout"
        }
      ]
    },
    {
      "cell_type": "code",
      "metadata": {
        "colab": {
          "base_uri": "https://localhost:8080/"
        },
        "id": "kgPjEgCbzReI",
        "outputId": "c6b61b16-be70-4e66-86d2-7a5249e115e9"
      },
      "source": [
        "from sklearn.metrics import confusion_matrix\n",
        "confusion_matrix(y_pred, y_test)"
      ],
      "execution_count": 25,
      "outputs": [
        {
          "output_type": "execute_result",
          "data": {
            "text/plain": [
              "array([[ 3,  0],\n",
              "       [ 9, 12]])"
            ]
          },
          "metadata": {
            "tags": []
          },
          "execution_count": 25
        }
      ]
    },
    {
      "cell_type": "code",
      "metadata": {
        "colab": {
          "base_uri": "https://localhost:8080/",
          "height": 300
        },
        "id": "F8-M_VOBzVh1",
        "outputId": "13daaa57-e03e-4add-de80-2f920b992538"
      },
      "source": [
        "from sklearn.metrics import plot_confusion_matrix\n",
        "plot_confusion_matrix(model, x_test, y_test)"
      ],
      "execution_count": 26,
      "outputs": [
        {
          "output_type": "execute_result",
          "data": {
            "text/plain": [
              "<sklearn.metrics._plot.confusion_matrix.ConfusionMatrixDisplay at 0x7fcb156121d0>"
            ]
          },
          "metadata": {
            "tags": []
          },
          "execution_count": 26
        },
        {
          "output_type": "display_data",
          "data": {
            "image/png": "[encoded data removed]",
            "text/plain": [
              "<Figure size 432x288 with 2 Axes>"
            ]
          },
          "metadata": {
            "tags": [],
            "needs_background": "light"
          }
        }
      ]
    },
    {
      "cell_type": "code",
      "metadata": {
        "colab": {
          "base_uri": "https://localhost:8080/"
        },
        "id": "qzZngpQTzW3W",
        "outputId": "7b2effdd-bcef-4e27-efec-e6019c7c953e"
      },
      "source": [
        "from sklearn.metrics import classification_report\n",
        "print(classification_report(y_pred, y_test))"
      ],
      "execution_count": 27,
      "outputs": [
        {
          "output_type": "stream",
          "text": [
            "              precision    recall  f1-score   support\n",
            "\n",
            "    negative       0.25      1.00      0.40         3\n",
            "    positive       1.00      0.57      0.73        21\n",
            "\n",
            "    accuracy                           0.62        24\n",
            "   macro avg       0.62      0.79      0.56        24\n",
            "weighted avg       0.91      0.62      0.69        24\n",
            "\n"
          ],
          "name": "stdout"
        }
      ]
    },
    {
      "cell_type": "code",
      "metadata": {
        "colab": {
          "base_uri": "https://localhost:8080/"
        },
        "id": "InlQ5DmxzZQ_",
        "outputId": "4fe0c258-345c-400e-8363-50ecf009dd11"
      },
      "source": [
        "example = [\"good\"]\n",
        "result = model.predict(example)\n",
        "\n",
        "print(result)"
      ],
      "execution_count": 31,
      "outputs": [
        {
          "output_type": "stream",
          "text": [
            "['positive']\n"
          ],
          "name": "stdout"
        }
      ]
    },
    {
      "cell_type": "code",
      "metadata": {
        "colab": {
          "base_uri": "https://localhost:8080/"
        },
        "id": "ocpGu15GzgVP",
        "outputId": "faa6f84e-832f-496d-b6d5-ffea30a13620"
      },
      "source": [
        "import joblib\n",
        "joblib.dump(model,'sentiment')"
      ],
      "execution_count": 32,
      "outputs": [
        {
          "output_type": "execute_result",
          "data": {
            "text/plain": [
              "['sentiment']"
            ]
          },
          "metadata": {
            "tags": []
          },
          "execution_count": 32
        }
      ]
    },
    {
      "cell_type": "code",
      "metadata": {
        "colab": {
          "base_uri": "https://localhost:8080/"
        },
        "id": "pG-eagoQzjJu",
        "outputId": "93f1638a-8dfd-4f46-80cf-51db65a4bd3d"
      },
      "source": [
        "!pip install streamlit --quiet\n",
        "!pip install pyngrok==4.1.1 --quiet\n",
        "from pyngrok import ngrok"
      ],
      "execution_count": 33,
      "outputs": [
        {
          "output_type": "stream",
          "text": [
            "\u001b[K     |████████████████████████████████| 8.2MB 25.5MB/s \n",
            "\u001b[K     |████████████████████████████████| 4.2MB 42.4MB/s \n",
            "\u001b[K     |████████████████████████████████| 81kB 9.0MB/s \n",
            "\u001b[K     |████████████████████████████████| 174kB 59.9MB/s \n",
            "\u001b[K     |████████████████████████████████| 112kB 49.3MB/s \n",
            "\u001b[K     |████████████████████████████████| 122kB 47.9MB/s \n",
            "\u001b[K     |████████████████████████████████| 71kB 8.1MB/s \n",
            "\u001b[?25h  Building wheel for blinker (setup.py) ... \u001b[?25l\u001b[?25hdone\n",
            "\u001b[31mERROR: google-colab 1.0.0 has requirement ipykernel~=4.10, but you'll have ipykernel 5.5.5 which is incompatible.\u001b[0m\n",
            "  Building wheel for pyngrok (setup.py) ... \u001b[?25l\u001b[?25hdone\n"
          ],
          "name": "stdout"
        }
      ]
    },
    {
      "cell_type": "code",
      "metadata": {
        "colab": {
          "base_uri": "https://localhost:8080/"
        },
        "id": "9qAsCCXszla7",
        "outputId": "b21965c8-faf5-4334-e458-8f93152bfc10"
      },
      "source": [
        "%%writefile app.py\n",
        "import streamlit as st\n",
        "import joblib\n",
        "model = joblib.load('sentiment')\n",
        "st.title('Sentiment Analysis')\n",
        "ip = st.text_input(\"Enter the review\")\n",
        "op = model.predict([ip])\n",
        "if st.button('Predict'):\n",
        "  st.title(op[0])"
      ],
      "execution_count": 34,
      "outputs": [
        {
          "output_type": "stream",
          "text": [
            "Writing app.py\n"
          ],
          "name": "stdout"
        }
      ]
    },
    {
      "cell_type": "code",
      "metadata": {
        "colab": {
          "base_uri": "https://localhost:8080/"
        },
        "id": "lM5YrnYQzqFX",
        "outputId": "f5de01a2-0834-4b96-92d1-3737bdf676ae"
      },
      "source": [
        "!nohup streamlit run app.py &\n",
        "url= ngrok.connect(port='8501')\n",
        "print(url)"
      ],
      "execution_count": 35,
      "outputs": [
        {
          "output_type": "stream",
          "text": [
            "nohup: appending output to 'nohup.out'\n",
            "http://6ec6ea6a9e69.ngrok.io\n"
          ],
          "name": "stdout"
        }
      ]
    }
  ]
}